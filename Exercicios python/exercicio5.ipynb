{
  "nbformat": 4,
  "nbformat_minor": 0,
  "metadata": {
    "colab": {
      "provenance": [],
      "authorship_tag": "ABX9TyONi3vc6Er5D/5tNQzwMIRW",
      "include_colab_link": true
    },
    "kernelspec": {
      "name": "python3",
      "display_name": "Python 3"
    },
    "language_info": {
      "name": "python"
    }
  },
  "cells": [
    {
      "cell_type": "markdown",
      "metadata": {
        "id": "view-in-github",
        "colab_type": "text"
      },
      "source": [
        "<a href=\"https://colab.research.google.com/github/FelpsMartini/ciencia-de-dados/blob/main/exercicio5.ipynb\" target=\"_parent\"><img src=\"https://colab.research.google.com/assets/colab-badge.svg\" alt=\"Open In Colab\"/></a>"
      ]
    },
    {
      "cell_type": "code",
      "execution_count": 16,
      "metadata": {
        "colab": {
          "base_uri": "https://localhost:8080/"
        },
        "id": "PAR5OJ_RNZdz",
        "outputId": "e988085f-80ca-4135-e7fd-fce3f46d2aa5"
      },
      "outputs": [
        {
          "output_type": "stream",
          "name": "stdout",
          "text": [
            "Digite a nota 1: 10\n",
            "Digite a nota 2: 5\n",
            "Digite o peso 1: 9.5\n",
            "Digite a peso 2: 5\n",
            "Media = 8.275862068965518\n",
            "Media = 8.28\n",
            "Aprovado\n",
            "Muito bom!\n"
          ]
        }
      ],
      "source": [
        "#Entrada\n",
        "n1 = float(input(\"Digite a nota 1: \"))\n",
        "n2 = float(input(\"Digite a nota 2: \"))\n",
        "p1 = float(input(\"Digite o peso 1: \"))\n",
        "p2 = float(input(\"Digite a peso 2: \"))\n",
        "\n",
        "#Processamento\n",
        "media = ((n1* p1) + (n2 * p2)) / (p1 + p2)\n",
        "#Saída\n",
        "print(\"Media = \" + str(media))\n",
        "print(\"Media = {:.2f}\".format(media) )\n",
        "\n",
        "if media < 5:\n",
        "  print(\"Reprovado\")\n",
        "else:\n",
        "  print(\"Aprovado\")\n",
        "  if(media > 8 and media <=9):\n",
        "    print(\"Muito bom!\")\n",
        "  elif (media > 9):\n",
        "      print(\"Excelente!\")\n",
        "\n"
      ]
    },
    {
      "cell_type": "code",
      "source": [
        "\n",
        "prin"
      ],
      "metadata": {
        "id": "YlNhmWelQ047"
      },
      "execution_count": null,
      "outputs": []
    },
    {
      "cell_type": "code",
      "source": [],
      "metadata": {
        "id": "wOIW8QXDNy-z"
      },
      "execution_count": 3,
      "outputs": []
    }
  ]
}